{
 "cells": [
  {
   "cell_type": "markdown",
   "metadata": {},
   "source": [
    "# Nombres Flottants"
   ]
  },
  {
   "cell_type": "markdown",
   "metadata": {},
   "source": [
    "On rappelle que si $x\\in\\mathbb{R}^*$ et $a\\in\\mathbb{R}$ est une approximation de $a$, l'erreur absolue faite en approchant $x$ par $a$ est $E_{{\\rm abs}}=|a-x|$. L'erreur relative faite en approchant $x$ par $a$ est, quant à elle, $E_{{\\rm rel}}=|(a - x)/x|=|a/x - 1|$.\n",
    "\n",
    "On remarque que si $x$ est une grandeur physique, l'erreur absolue a même dimension que $x$ et l'erreur relative est une grandeur sans dimension. Par exemple, si on considère l'altitude du du Mont-Blanc qui est de $x=4810~m$, et qu'on l'approche par $a=5000~m$, l'erreur absolue est de $193~m$ et l'erreur relative est de l'ordre de $0.04$ soit $4\\%$. En physique comme partout, c'est l'erreur relative qu'il convient de rendre faible. C'est donc sur cette erreur qu'on se focalisera dans ce TP.\n",
    "\n",
    "On rappelle que les nombres flottants sont les nombres de la forme\n",
    "$$a = \\left(d_0 + \\frac{d_1}{b} + \\cdots + \\frac{d_p}{2^p}\\right) b^e$$\n",
    "où $d_k\\in\\left\\{0,1,\\ldots,b-1 \\right\\}$ et $e$ est un entier vérifiant $m \\leq e\\leq M$. Python travaille avec des nombres flottants 64 bits pour lesquels $b=2$, $p=52$, $m=-1022$ et $M=1023$. En pratique, il est bon de faire comme si $b=10$, $p=16$, $m=-308$ et $M=308$. En effet, même si cela ne correspond pas réellement à ce qui se passe dans la mémoire de l'ordinateur, il est beaucoup plus simple pour vous d'imaginer que ce dernier travaille en base 10. Excepté le premier exercice, tous les exercices de ce TP mettent en valeur des problèmes qui existent quelle que soit la base utilisée.\n",
    "\n",
    "Quel que soit $x\\in\\mathbb{R}$, il existe un nombre flottant $a$ tel que $E_{{\\rm rel}}=|(a - x)/x|=|a/x - 1|\\leq u=2^{-(p+1)}\\approx 10^{-16}$. On retiendra donc que lorsqu'on travaille avec les nombres flottants en Python, tous les nombres sont arrondis avec une précision relative de l'ordre $10^{-16}$. Pour résumer :\n",
    "\n",
    "* Lorsqu'on rentre un nombre flottant, seuls les 16 premiers chiffres significatifs sont gardés en mémoire.\n",
    "* Après chaque opération élémentaire ($+$, $-$, $*$, $/$, $\\sqrt{\\cdot}$, $\\sin$, etc), seuls les 16 premiers chiffres significatifs du résultat sont gardés."
   ]
  },
  {
   "cell_type": "markdown",
   "metadata": {},
   "source": [
    "# 1. Ca commence mal"
   ]
  },
  {
   "cell_type": "code",
   "execution_count": 1,
   "metadata": {},
   "outputs": [
    {
     "data": {
      "text/plain": [
       "False"
      ]
     },
     "execution_count": 1,
     "metadata": {},
     "output_type": "execute_result"
    }
   ],
   "source": [
    "0.1 + 0.2 == 0.3"
   ]
  },
  {
   "cell_type": "code",
   "execution_count": 2,
   "metadata": {},
   "outputs": [
    {
     "data": {
      "text/plain": [
       "0.30000000000000004"
      ]
     },
     "execution_count": 2,
     "metadata": {},
     "output_type": "execute_result"
    }
   ],
   "source": [
    "0.1 + 0.2"
   ]
  },
  {
   "cell_type": "markdown",
   "metadata": {},
   "source": [
    "# 2. Calcul de dérivée"
   ]
  },
  {
   "cell_type": "markdown",
   "metadata": {},
   "source": [
    "## Question 1"
   ]
  },
  {
   "cell_type": "code",
   "execution_count": 3,
   "metadata": {},
   "outputs": [],
   "source": [
    "def derive_1(f, x, eps):\n",
    "    return (f(x + eps) - f(x)) / eps\n",
    "\n",
    "def derive_2(f, x, eps):\n",
    "    return (f(x + eps) - f(x - eps)) / (2 * eps)"
   ]
  },
  {
   "cell_type": "markdown",
   "metadata": {},
   "source": [
    "## Question 2"
   ]
  },
  {
   "cell_type": "code",
   "execution_count": 4,
   "metadata": {},
   "outputs": [],
   "source": [
    "import numpy as np"
   ]
  },
  {
   "cell_type": "code",
   "execution_count": 5,
   "metadata": {},
   "outputs": [
    {
     "data": {
      "text/plain": [
       "0.41421356237309515"
      ]
     },
     "execution_count": 5,
     "metadata": {},
     "output_type": "execute_result"
    }
   ],
   "source": [
    "derive_1(np.sqrt, 1, 10**(-0))"
   ]
  },
  {
   "cell_type": "code",
   "execution_count": 6,
   "metadata": {},
   "outputs": [
    {
     "data": {
      "text/plain": [
       "0.49998750062396624"
      ]
     },
     "execution_count": 6,
     "metadata": {},
     "output_type": "execute_result"
    }
   ],
   "source": [
    "derive_1(np.sqrt, 1, 10**(-4))"
   ]
  },
  {
   "cell_type": "code",
   "execution_count": 7,
   "metadata": {},
   "outputs": [
    {
     "data": {
      "text/plain": [
       "0.4999999969612645"
      ]
     },
     "execution_count": 7,
     "metadata": {},
     "output_type": "execute_result"
    }
   ],
   "source": [
    "derive_1(np.sqrt, 1, 10**(-8))"
   ]
  },
  {
   "cell_type": "code",
   "execution_count": 8,
   "metadata": {},
   "outputs": [
    {
     "data": {
      "text/plain": [
       "0.5000444502911705"
      ]
     },
     "execution_count": 8,
     "metadata": {},
     "output_type": "execute_result"
    }
   ],
   "source": [
    "derive_1(np.sqrt, 1, 10**(-12))"
   ]
  },
  {
   "cell_type": "markdown",
   "metadata": {},
   "source": [
    "Le nombre dérivé de $x\\mapsto \\sqrt{x}$ est de $1/2$ en 1. On se rend compte qu'en diminuant $\\epsilon$, l'approximation donnée par la fonction derive_1 gagne d'abord en précision, avant de devenir moins précise. Ce phénomène s'explique de la manière suivante : plus $\\epsilon$ est petit, plus $(f(x + \\epsilon) - f(x))/\\epsilon$ est proche de $f'(x)$. Cependant, plus $\\epsilon$ est petit, plus $f(x+\\epsilon)$ et $f(x)$ sont proches : les erreurs d'arrondi lors du calcul de ces deux grandeurs vont donc se faire sentir de plus en plus car on a une compensation catastrophique. C'est la raison pour laquelle, pour obtenir la meilleure approximation possible, il faudra choisir une valeur de $\\epsilon$ petite, mais pas trop."
   ]
  },
  {
   "cell_type": "code",
   "execution_count": 9,
   "metadata": {},
   "outputs": [
    {
     "data": {
      "text/plain": [
       "0.7071067811865476"
      ]
     },
     "execution_count": 9,
     "metadata": {},
     "output_type": "execute_result"
    }
   ],
   "source": [
    "derive_2(np.sqrt, 1, 10**(-0))"
   ]
  },
  {
   "cell_type": "code",
   "execution_count": 10,
   "metadata": {},
   "outputs": [
    {
     "data": {
      "text/plain": [
       "0.5000000006244454"
      ]
     },
     "execution_count": 10,
     "metadata": {},
     "output_type": "execute_result"
    }
   ],
   "source": [
    "derive_2(np.sqrt, 1, 10**(-4))"
   ]
  },
  {
   "cell_type": "code",
   "execution_count": 11,
   "metadata": {},
   "outputs": [
    {
     "data": {
      "text/plain": [
       "0.5000000025123796"
      ]
     },
     "execution_count": 11,
     "metadata": {},
     "output_type": "execute_result"
    }
   ],
   "source": [
    "derive_2(np.sqrt, 1, 10**(-8))"
   ]
  },
  {
   "cell_type": "code",
   "execution_count": 12,
   "metadata": {},
   "outputs": [
    {
     "data": {
      "text/plain": [
       "0.5000444502911705"
      ]
     },
     "execution_count": 12,
     "metadata": {},
     "output_type": "execute_result"
    }
   ],
   "source": [
    "derive_2(np.sqrt, 1, 10**(-12))"
   ]
  },
  {
   "cell_type": "markdown",
   "metadata": {},
   "source": [
    "## Question 3"
   ]
  },
  {
   "cell_type": "code",
   "execution_count": 13,
   "metadata": {},
   "outputs": [],
   "source": [
    "import matplotlib.pyplot as plt"
   ]
  },
  {
   "cell_type": "code",
   "execution_count": 14,
   "metadata": {},
   "outputs": [],
   "source": [
    "def nb_chiffres_1(f, fprime, x, eps):\n",
    "    return -np.log10(np.abs((derive_1(f, x, eps) - fprime(x)) / fprime(x)))"
   ]
  },
  {
   "cell_type": "code",
   "execution_count": 15,
   "metadata": {},
   "outputs": [
    {
     "data": {
      "text/plain": [
       "[<matplotlib.lines.Line2D at 0x112504150>]"
      ]
     },
     "execution_count": 15,
     "metadata": {},
     "output_type": "execute_result"
    },
    {
     "data": {
      "image/png": "[encoded data removed]",
      "text/plain": [
       "<Figure size 432x288 with 1 Axes>"
      ]
     },
     "metadata": {
      "needs_background": "light"
     },
     "output_type": "display_data"
    }
   ],
   "source": [
    "def f(x):\n",
    "    return np.sqrt(x)\n",
    "\n",
    "def fprime(x):\n",
    "    return 1 / (2 * np.sqrt(x))\n",
    "\n",
    "x1 = [k for k in range(0, 20)]\n",
    "y1 = [nb_chiffres_1(f, fprime, 1, 10**(-k)) for k in x1]\n",
    "plt.plot(x1, y1)"
   ]
  },
  {
   "cell_type": "markdown",
   "metadata": {},
   "source": [
    "On remarque que le nombres de chiffres corrects augmente lorsque $\\epsilon$ diminue. Ce phénomène a lieu jusqu'à une valeur de l'ordre de $10^{-8}\\approx\\sqrt{u}$. Puis, la précision diminue, et devient exécrable lorsque $\\epsilon$ devient petit devant $10^{-16}=u$. En effet, pour de telles valeurs, $1+\\epsilon$ est arrondi à 1, donc $f(1 + \\epsilon)$ renvoie le même résultat que $f(1)$ et donc la valeur renvoyée par la fonction derive_1 est 0."
   ]
  },
  {
   "cell_type": "markdown",
   "metadata": {},
   "source": [
    "## Question 4"
   ]
  },
  {
   "cell_type": "code",
   "execution_count": 16,
   "metadata": {},
   "outputs": [],
   "source": [
    "def nb_chiffres_2(f, fprime, x, eps):\n",
    "    return -np.log10(np.abs((derive_2(f, x, eps) - fprime(x)) / fprime(x)))"
   ]
  },
  {
   "cell_type": "code",
   "execution_count": 17,
   "metadata": {},
   "outputs": [
    {
     "data": {
      "text/plain": [
       "[<matplotlib.lines.Line2D at 0x11257f390>]"
      ]
     },
     "execution_count": 17,
     "metadata": {},
     "output_type": "execute_result"
    },
    {
     "data": {
      "image/png": "[encoded data removed]",
      "text/plain": [
       "<Figure size 432x288 with 1 Axes>"
      ]
     },
     "metadata": {
      "needs_background": "light"
     },
     "output_type": "display_data"
    }
   ],
   "source": [
    "x2 = [k for k in range(0, 20)]\n",
    "y2 = [nb_chiffres_2(f, fprime, 1.0, 10**(-k)) for k in x2]\n",
    "plt.plot(x1, y1)\n",
    "plt.plot(x2, y2)"
   ]
  },
  {
   "cell_type": "markdown",
   "metadata": {},
   "source": [
    "La même phénomène se produit avec la seconde méthode d'approximation. On remarque cependant qu'on obtient plus rapidement une meilleure précision et que la valeure optimale de $\\epsilon$ est de l'ordre de $10^{-5}\\approx u^{\\frac{1}{3}}$."
   ]
  },
  {
   "cell_type": "markdown",
   "metadata": {},
   "source": [
    "# 3. Un calcul d'intégrale"
   ]
  },
  {
   "cell_type": "markdown",
   "metadata": {},
   "source": [
    "## Question 2"
   ]
  },
  {
   "cell_type": "code",
   "execution_count": 18,
   "metadata": {},
   "outputs": [],
   "source": [
    "def u(n):\n",
    "    res = np.exp(1) - 1\n",
    "    for k in range(1, n + 1):\n",
    "        res = np.exp(1) - k * res\n",
    "    return res"
   ]
  },
  {
   "cell_type": "markdown",
   "metadata": {},
   "source": [
    "## Question 3"
   ]
  },
  {
   "cell_type": "code",
   "execution_count": 19,
   "metadata": {},
   "outputs": [
    {
     "data": {
      "text/plain": [
       "[1.718281828459045,\n",
       " 1.0,\n",
       " 0.7182818284590451,\n",
       " 0.5634363430819098,\n",
       " 0.4645364561314058,\n",
       " 0.395599547802016,\n",
       " 0.34468454164694906,\n",
       " 0.30549003693040166,\n",
       " 0.27436153301583177,\n",
       " 0.24902803131655915,\n",
       " 0.22800151529345358,\n",
       " 0.21026516023105568,\n",
       " 0.19509990568637692,\n",
       " 0.18198305453614516,\n",
       " 0.17051906495301283,\n",
       " 0.1604958541638526,\n",
       " 0.15034816183740363,\n",
       " 0.16236307722318344,\n",
       " -0.2042535615582568,\n",
       " 6.599099498065924,\n",
       " -129.26370813285942,\n",
       " 2717.256152618507,\n",
       " -59776.91707577869,\n",
       " 1374871.8110247385,\n",
       " -32996920.746311896]"
      ]
     },
     "execution_count": 19,
     "metadata": {},
     "output_type": "execute_result"
    }
   ],
   "source": [
    "[u(k) for k in range(25)]"
   ]
  },
  {
   "cell_type": "markdown",
   "metadata": {},
   "source": [
    "On montre facilement que pour tout entier naturel $n$, $0\\leq u_n\\leq e/(n+1)$. En particulier, la suite $(u_n)$ converge vers 0. On démontre de même que la suite $(u_n)$ est décroissante. Cependant, numériquement, on observe bien une suite positive et décroissante jusqu'à $n=16$, puis elle commence a recroitre, et changer de signe de manière  totalement chaotique. Ce comportement n'est pas surprenant, car si une erreur de l'ordre de $\\delta>0$ est commise sur la valeur initiale $u_0$, elle devient $n!\\delta$ après $n$ itérations. Si $\\delta$ est de l'ordre de $u$, il suffit de 16 itérations pour que $n!\\delta$ ne soit plus négligeable devant 1."
   ]
  },
  {
   "cell_type": "markdown",
   "metadata": {},
   "source": [
    "# 4. Suite de Jean-Michel Muller"
   ]
  },
  {
   "cell_type": "markdown",
   "metadata": {},
   "source": [
    "## Question 1"
   ]
  },
  {
   "cell_type": "code",
   "execution_count": 20,
   "metadata": {},
   "outputs": [],
   "source": [
    "def u(n):\n",
    "    a = 2\n",
    "    b = -4\n",
    "    for k in range(n):\n",
    "        a, b = b, 111 - 1130/b + 3000/(a * b)\n",
    "    return a"
   ]
  },
  {
   "cell_type": "code",
   "execution_count": 21,
   "metadata": {},
   "outputs": [
    {
     "data": {
      "text/plain": [
       "[2,\n",
       " -4,\n",
       " 18.5,\n",
       " 9.378378378378379,\n",
       " 7.801152737752169,\n",
       " 7.154414480975333,\n",
       " 6.806784736924811,\n",
       " 6.592632768721792,\n",
       " 6.449465934053933,\n",
       " 6.348452060746624,\n",
       " 6.274438662728116,\n",
       " 6.218696768582163,\n",
       " 6.17585385581539,\n",
       " 6.142627170481006,\n",
       " 6.120248704570159,\n",
       " 6.166086559598099,\n",
       " 7.235021165534931,\n",
       " 22.062078463525793,\n",
       " 78.57557488787224,\n",
       " 98.34950312216536,\n",
       " 99.8985692661829,\n",
       " 99.99387098890278,\n",
       " 99.99963038728635,\n",
       " 99.99997773067949,\n",
       " 99.99999865921669]"
      ]
     },
     "execution_count": 21,
     "metadata": {},
     "output_type": "execute_result"
    }
   ],
   "source": [
    "[u(k) for k in range(25)]"
   ]
  },
  {
   "cell_type": "markdown",
   "metadata": {},
   "source": [
    "Numériquement, la suite semble d'abord converger vers 6, puis elle s'échappe et converge rapidement vers 100. Cependant, la théorie montre que $(u_n)$ converge vers 6. Pour comprendre ce phénomène, on peut voir que si on écrit $u_n=v_{n+1} / v_n$, alors $v_n$ vérifie la relation de récurrence $v_{n+3}=111v_{n+2}-1130v_{n+1}+3000 v_n$. Le polynôme caractéristique de cette relation de récurrence est $X^3-111X^2+1130X-3000$ dont les racines sont 5, 6 et 100. On en déduit qu'il existe $\\alpha, \\beta, \\gamma\\in\\mathbb{R}$ tels que $v_{n}=\\alpha 100^n + \\beta 6^n + \\gamma 5^n$. Donc\n",
    "$$u_{n}=\\frac{\\alpha 100^{n+1} + \\beta 6^{n+1} + \\gamma 5^{n+1}}{\\alpha 100^n + \\beta 6^n + \\gamma 5^n}$$\n",
    "Jean-Michel Muller a choisit les valeurs initiales $u_0$ et $u_1$ pour avoir $\\alpha=0$ et $\\beta\\neq 0$. La suite $(u_n)$ converge donc vers 6. Mais les erreurs d'arrondis vont faire comme si $\\alpha$ n'était pas exactement égal à 0. Dans ce cas, la suite $(u_n)$ converge vers 100 : c'est ce qu'on observe numériquement."
   ]
  },
  {
   "cell_type": "markdown",
   "metadata": {},
   "source": [
    "# 5. De l'importance de choisir une bonne expression"
   ]
  },
  {
   "cell_type": "markdown",
   "metadata": {},
   "source": [
    "## Question 1"
   ]
  },
  {
   "cell_type": "code",
   "execution_count": 22,
   "metadata": {},
   "outputs": [],
   "source": [
    "def f1(x):\n",
    "    return 1 / x - 1 / (x + 1)\n",
    "\n",
    "def f2(x):\n",
    "    return 1 / (x * (x + 1))"
   ]
  },
  {
   "cell_type": "code",
   "execution_count": 23,
   "metadata": {},
   "outputs": [
    {
     "data": {
      "text/plain": [
       "1.0009067165444198e-26"
      ]
     },
     "execution_count": 23,
     "metadata": {},
     "output_type": "execute_result"
    }
   ],
   "source": [
    "f1(10.0**13)"
   ]
  },
  {
   "cell_type": "code",
   "execution_count": 24,
   "metadata": {},
   "outputs": [
    {
     "data": {
      "text/plain": [
       "9.999999999999e-27"
      ]
     },
     "execution_count": 24,
     "metadata": {},
     "output_type": "execute_result"
    }
   ],
   "source": [
    "f2(10.0**13)"
   ]
  },
  {
   "cell_type": "markdown",
   "metadata": {},
   "source": [
    "Lorsque $x$ devient grand, l'erreur relative entre $1/x$ et $1/(x+1)$ devient de plus en plus faible. On obtient alors une compensation catastrophique entre ces deux grandeurs. Il est donc plus judicieux d'utiliser la seconde expression pour calculer $f(x)$ car aucune compensation catastrophique n'a lieu."
   ]
  },
  {
   "cell_type": "markdown",
   "metadata": {},
   "source": [
    "## Question 2"
   ]
  },
  {
   "cell_type": "code",
   "execution_count": 25,
   "metadata": {},
   "outputs": [],
   "source": [
    "def g1(x):\n",
    "    return np.sqrt(x + 1) - np.sqrt(x)\n",
    "\n",
    "def g2(x):\n",
    "    return 1 / (np.sqrt(x + 1) + np.sqrt(x))"
   ]
  },
  {
   "cell_type": "code",
   "execution_count": 26,
   "metadata": {},
   "outputs": [
    {
     "data": {
      "text/plain": [
       "1.578591763973236e-07"
      ]
     },
     "execution_count": 26,
     "metadata": {},
     "output_type": "execute_result"
    }
   ],
   "source": [
    "g1(10.0**13)"
   ]
  },
  {
   "cell_type": "code",
   "execution_count": 27,
   "metadata": {},
   "outputs": [
    {
     "data": {
      "text/plain": [
       "1.58113883008415e-07"
      ]
     },
     "execution_count": 27,
     "metadata": {},
     "output_type": "execute_result"
    }
   ],
   "source": [
    "g2(10.0**13)"
   ]
  },
  {
   "cell_type": "markdown",
   "metadata": {},
   "source": [
    "Lorsque $x$ devient grand, l'erreur relative entre $\\sqrt{x+1}$ et $\\sqrt{x}$ devient de plus en plus faible. On obtient alors une compensation catastrophique entre ces deux grandeurs. Il est donc plus judicieux d'utiliser la seconde expression pour calculer $f(x)$ car aucune compensation catastrophique n'a lieu."
   ]
  },
  {
   "cell_type": "markdown",
   "metadata": {},
   "source": [
    "## Question 3"
   ]
  },
  {
   "cell_type": "code",
   "execution_count": 28,
   "metadata": {},
   "outputs": [],
   "source": [
    "def trinome(a, b, c):\n",
    "    delta = b**2 - 4 * a * c\n",
    "    u = (-b - np.sqrt(delta)) / (2 * a)\n",
    "    v = (-b + np.sqrt(delta)) / (2 * a)\n",
    "    return u, v"
   ]
  },
  {
   "cell_type": "code",
   "execution_count": 29,
   "metadata": {},
   "outputs": [
    {
     "data": {
      "text/plain": [
       "(7.450580596923828e-09, 100000000.0)"
      ]
     },
     "execution_count": 29,
     "metadata": {},
     "output_type": "execute_result"
    }
   ],
   "source": [
    "trinome(1, - 10.0**8, 1)"
   ]
  },
  {
   "cell_type": "code",
   "execution_count": 30,
   "metadata": {},
   "outputs": [
    {
     "data": {
      "text/plain": [
       "(0.0, 1000000000.0)"
      ]
     },
     "execution_count": 30,
     "metadata": {},
     "output_type": "execute_result"
    }
   ],
   "source": [
    "trinome(1, - 10.0**9, 1)"
   ]
  },
  {
   "cell_type": "markdown",
   "metadata": {},
   "source": [
    "Dans notre cas, $b^2-4ac\\approx b^2$. Puisque $b\\geq 0$, on en déduit que $b\\approx\\sqrt{b^2-4ac}$. Un obtient donc une compensation catastrophique : la première racine, qui est de l'ordre $10^{-9}$, est remplacée par 0 dans notre fonction. Cela viole la relation qui dit que le produit des racines est $c/a=1$. Cela nous donne l'idée d'utiliser cette relation après avoir calculé la racine pour laquelle aucune compensation catastrophique n'a lieu. Puis, on calcule l'autre racine en utilisant le fait que $x_1 x_2=c/a$."
   ]
  },
  {
   "cell_type": "code",
   "execution_count": 31,
   "metadata": {},
   "outputs": [],
   "source": [
    "def trinome(a, b, c):\n",
    "    delta = b**2 - 4 * a * c\n",
    "    if b >= 0:\n",
    "        u = (-b - np.sqrt(delta)) / (2 * a)\n",
    "        v = (c / a) / u\n",
    "    else:\n",
    "        v = (-b + np.sqrt(delta)) / (2 * a)\n",
    "        u = (c / a) / v\n",
    "    return u, v"
   ]
  },
  {
   "cell_type": "code",
   "execution_count": 32,
   "metadata": {},
   "outputs": [
    {
     "data": {
      "text/plain": [
       "(1e-09, 1000000000.0)"
      ]
     },
     "execution_count": 32,
     "metadata": {},
     "output_type": "execute_result"
    }
   ],
   "source": [
    "trinome(1, - 10.0**9, 1)"
   ]
  },
  {
   "cell_type": "markdown",
   "metadata": {},
   "source": [
    "## Question 4"
   ]
  },
  {
   "cell_type": "code",
   "execution_count": 33,
   "metadata": {},
   "outputs": [],
   "source": [
    "import numpy as np\n",
    "\n",
    "def f1(x):\n",
    "    return (np.exp(x) - 1) / x\n",
    "\n",
    "def f2(x):\n",
    "    return (np.exp(x) - 1) / np.log(np.exp(x))"
   ]
  },
  {
   "cell_type": "code",
   "execution_count": 34,
   "metadata": {},
   "outputs": [],
   "source": [
    "x = 1.0e-12"
   ]
  },
  {
   "cell_type": "code",
   "execution_count": 35,
   "metadata": {},
   "outputs": [
    {
     "data": {
      "text/plain": [
       "(1.000088900582341, 177801164.68202323)"
      ]
     },
     "execution_count": 35,
     "metadata": {},
     "output_type": "execute_result"
    }
   ],
   "source": [
    "f1(x), (f1(x) - 1) / (x / 2)"
   ]
  },
  {
   "cell_type": "code",
   "execution_count": 36,
   "metadata": {},
   "outputs": [
    {
     "data": {
      "text/plain": [
       "(1.0000000000005, 1.000088900582341)"
      ]
     },
     "execution_count": 36,
     "metadata": {},
     "output_type": "execute_result"
    }
   ],
   "source": [
    "f2(x), (f2(x) - 1) / (x / 2)"
   ]
  },
  {
   "cell_type": "markdown",
   "metadata": {},
   "source": [
    "On voit bien que la deuxième implémentation est bien meilleure que la première puisque le deuxième terme calculé est proche de 1, comme prévu. Pour la première expression, le premier terme est très grand devant 1 ce qui montre bien que notre approximation est beaucoup moins bonne."
   ]
  }
 ],
 "metadata": {
  "kernelspec": {
   "display_name": "Python 3",
   "language": "python",
   "name": "python3"
  },
  "language_info": {
   "codemirror_mode": {
    "name": "ipython",
    "version": 3
   },
   "file_extension": ".py",
   "mimetype": "text/x-python",
   "name": "python",
   "nbconvert_exporter": "python",
   "pygments_lexer": "ipython3",
   "version": "3.7.4"
  }
 },
 "nbformat": 4,
 "nbformat_minor": 2
}
