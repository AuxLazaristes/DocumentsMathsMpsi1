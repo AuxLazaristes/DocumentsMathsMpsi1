{
 "cells": [
  {
   "cell_type": "markdown",
   "metadata": {},
   "source": [
    "# Sudoku\n",
    "\n",
    "TP du 19 février 2020"
   ]
  },
  {
   "cell_type": "code",
   "execution_count": 1,
   "metadata": {},
   "outputs": [],
   "source": [
    "n = 3\n",
    "n2 = n * n"
   ]
  },
  {
   "cell_type": "markdown",
   "metadata": {},
   "source": [
    "## Extraction des blocs"
   ]
  },
  {
   "cell_type": "markdown",
   "metadata": {},
   "source": [
    "### Question 1"
   ]
  },
  {
   "cell_type": "code",
   "execution_count": 28,
   "metadata": {},
   "outputs": [],
   "source": [
    "grille = [0, 0, 3, 0, 2, 0, 6, 0, 0,\n",
    "          9, 0, 0, 3, 0, 5, 0, 0, 1,\n",
    "          0, 0, 1, 8, 0, 6, 4, 0, 0,\n",
    "          0, 0, 8, 1, 0, 2, 9, 0, 0,\n",
    "          7, 0, 0, 0, 0, 0, 0, 0, 8,\n",
    "          0, 0, 6, 7, 0, 8, 2, 0, 0,\n",
    "          0, 0, 2, 6, 0, 9, 5, 0, 0,\n",
    "          8, 0, 0, 2, 0, 3, 0, 0, 9,\n",
    "          0, 0, 5, 0, 1, 0, 3, 0, 0]"
   ]
  },
  {
   "cell_type": "code",
   "execution_count": 29,
   "metadata": {},
   "outputs": [],
   "source": [
    "def ligne_v0(grille, i):\n",
    "    res = [0 for _ in range(n2)]\n",
    "    for j in range(n2):\n",
    "        res[j] = grille[i * n2 + j]\n",
    "    return res\n",
    "\n",
    "def ligne_v1(grille, i):\n",
    "    return [grille[i * n2 + j] for j in range(n2)]"
   ]
  },
  {
   "cell_type": "code",
   "execution_count": 30,
   "metadata": {},
   "outputs": [
    {
     "data": {
      "text/plain": [
       "[0, 0, 6, 7, 0, 8, 2, 0, 0]"
      ]
     },
     "execution_count": 30,
     "metadata": {},
     "output_type": "execute_result"
    }
   ],
   "source": [
    "ligne_v0(grille, 5)"
   ]
  },
  {
   "cell_type": "code",
   "execution_count": 31,
   "metadata": {},
   "outputs": [
    {
     "data": {
      "text/plain": [
       "[0, 0, 6, 7, 0, 8, 2, 0, 0]"
      ]
     },
     "execution_count": 31,
     "metadata": {},
     "output_type": "execute_result"
    }
   ],
   "source": [
    "ligne_v1(grille, 5)"
   ]
  },
  {
   "cell_type": "code",
   "execution_count": 32,
   "metadata": {},
   "outputs": [],
   "source": [
    "def colonne_v0(grille, j):\n",
    "    res = [0 for _ in range(n2)]\n",
    "    for i in range(n2):\n",
    "        res[i] = grille[i * n2 + j]\n",
    "    return res\n",
    "\n",
    "def colonne_v1(grille, j):\n",
    "    return [grille[i * n2 + j] for i in range(n2)]"
   ]
  },
  {
   "cell_type": "code",
   "execution_count": 33,
   "metadata": {},
   "outputs": [
    {
     "data": {
      "text/plain": [
       "[0, 5, 6, 2, 0, 8, 9, 3, 0]"
      ]
     },
     "execution_count": 33,
     "metadata": {},
     "output_type": "execute_result"
    }
   ],
   "source": [
    "colonne_v0(grille, 5)"
   ]
  },
  {
   "cell_type": "code",
   "execution_count": 34,
   "metadata": {},
   "outputs": [
    {
     "data": {
      "text/plain": [
       "[0, 5, 6, 2, 0, 8, 9, 3, 0]"
      ]
     },
     "execution_count": 34,
     "metadata": {},
     "output_type": "execute_result"
    }
   ],
   "source": [
    "colonne_v1(grille, 5)"
   ]
  },
  {
   "cell_type": "code",
   "execution_count": 36,
   "metadata": {},
   "outputs": [],
   "source": [
    "def carre_v0(grille, pk):\n",
    "    res = [0 for _ in range(n2)]\n",
    "    pi = pk // n\n",
    "    pj = pk % n\n",
    "    for si in range(n):      \n",
    "        for sj in range(n):\n",
    "            res[si * n + sj] = grille[(pi * n2 + pj) * n + si * n2 + sj]\n",
    "    return res\n",
    "\n",
    "def carre_v1(grille, i):\n",
    "    return [grille[((i // n) * n2 + (i % n)) * n + (si // n) * n2 + (si % n)] for si in range(n2)]"
   ]
  },
  {
   "cell_type": "code",
   "execution_count": 37,
   "metadata": {},
   "outputs": [
    {
     "data": {
      "text/plain": [
       "[9, 0, 0, 0, 0, 8, 2, 0, 0]"
      ]
     },
     "execution_count": 37,
     "metadata": {},
     "output_type": "execute_result"
    }
   ],
   "source": [
    "carre_v0(grille, 5)"
   ]
  },
  {
   "cell_type": "code",
   "execution_count": 38,
   "metadata": {},
   "outputs": [
    {
     "data": {
      "text/plain": [
       "[9, 0, 0, 0, 0, 8, 2, 0, 0]"
      ]
     },
     "execution_count": 38,
     "metadata": {},
     "output_type": "execute_result"
    }
   ],
   "source": [
    "carre_v1(grille, 5)"
   ]
  },
  {
   "cell_type": "markdown",
   "metadata": {},
   "source": [
    "### Question 2"
   ]
  },
  {
   "cell_type": "code",
   "execution_count": 39,
   "metadata": {},
   "outputs": [],
   "source": [
    "################################################################################\n",
    "def blocs(grille, k):\n",
    "    i = k // n2\n",
    "    j = k % n2\n",
    "    pi = i // n\n",
    "    pj = j // n\n",
    "    pk = pi * n + pj\n",
    "    ma_ligne = ligne_v1(grille, pi)\n",
    "    ma_colonne = colonne_v1(grille, pj)\n",
    "    mon_carre = carre_v1(grille, pk)\n",
    "    return (ma_ligne, ma_colonne, mon_carre)"
   ]
  },
  {
   "cell_type": "code",
   "execution_count": 40,
   "metadata": {},
   "outputs": [
    {
     "data": {
      "text/plain": [
       "([9, 0, 0, 3, 0, 5, 0, 0, 1],\n",
       " [0, 0, 0, 0, 0, 0, 0, 0, 0],\n",
       " [1, 0, 2, 0, 0, 0, 7, 0, 8])"
      ]
     },
     "execution_count": 40,
     "metadata": {},
     "output_type": "execute_result"
    }
   ],
   "source": [
    "blocs(grille, 30)"
   ]
  },
  {
   "cell_type": "markdown",
   "metadata": {},
   "source": [
    "## Détection des conflits"
   ]
  },
  {
   "cell_type": "markdown",
   "metadata": {},
   "source": [
    "### Question 1"
   ]
  },
  {
   "cell_type": "code",
   "execution_count": 43,
   "metadata": {},
   "outputs": [],
   "source": [
    "def possible_v0(bloc):\n",
    "    for r1 in range(n2):\n",
    "        for r2 in range(n2):\n",
    "            if r1 != r2 and bloc[r1] == bloc[r2]:\n",
    "                return False\n",
    "    return True\n",
    "\n",
    "def possible_v1(bloc):\n",
    "    aux = [0 for nb in range(n2 + 1)]\n",
    "    for nb in bloc:\n",
    "        aux[nb] = aux[nb] + 1\n",
    "    plusieursFois = False\n",
    "    for nb in range(1, n2 + 1):\n",
    "        if aux[nb] > 1:\n",
    "            plusieursFois = True\n",
    "    return not plusieursFois"
   ]
  },
  {
   "cell_type": "code",
   "execution_count": 46,
   "metadata": {},
   "outputs": [
    {
     "data": {
      "text/plain": [
       "True"
      ]
     },
     "execution_count": 46,
     "metadata": {},
     "output_type": "execute_result"
    }
   ],
   "source": [
    "possible_v0([1, 2, 3, 4, 5, 6, 7, 8, 9])"
   ]
  },
  {
   "cell_type": "code",
   "execution_count": 47,
   "metadata": {},
   "outputs": [
    {
     "data": {
      "text/plain": [
       "True"
      ]
     },
     "execution_count": 47,
     "metadata": {},
     "output_type": "execute_result"
    }
   ],
   "source": [
    "possible_v1([1, 2, 3, 4, 5, 6, 7, 8, 9])"
   ]
  },
  {
   "cell_type": "markdown",
   "metadata": {},
   "source": [
    "### Question 2"
   ]
  },
  {
   "cell_type": "code",
   "execution_count": 17,
   "metadata": {},
   "outputs": [],
   "source": [
    "def compatible(grille, k):\n",
    "    ligne, colonne, bloc = blocs(grille, k)\n",
    "    return possible_v1(ligne) and possible_v1(colonne) and possible_v1(bloc)"
   ]
  },
  {
   "cell_type": "code",
   "execution_count": 48,
   "metadata": {},
   "outputs": [
    {
     "data": {
      "text/plain": [
       "False"
      ]
     },
     "execution_count": 48,
     "metadata": {},
     "output_type": "execute_result"
    }
   ],
   "source": [
    "grille[0] = 1\n",
    "compatible(grille, 0)"
   ]
  },
  {
   "cell_type": "code",
   "execution_count": 49,
   "metadata": {},
   "outputs": [
    {
     "data": {
      "text/plain": [
       "True"
      ]
     },
     "execution_count": 49,
     "metadata": {},
     "output_type": "execute_result"
    }
   ],
   "source": [
    "grille[0] = 5\n",
    "compatible(grille, 0)"
   ]
  },
  {
   "cell_type": "markdown",
   "metadata": {},
   "source": [
    "## Fonction de résolution"
   ]
  },
  {
   "cell_type": "markdown",
   "metadata": {},
   "source": [
    "### Question 1"
   ]
  },
  {
   "cell_type": "code",
   "execution_count": 20,
   "metadata": {},
   "outputs": [],
   "source": [
    "def a_remplir(grille):\n",
    "    res = []\n",
    "    for k in range(n2 * n2):\n",
    "        if grille[k] == 0:\n",
    "            res.append(k)\n",
    "    return res"
   ]
  },
  {
   "cell_type": "markdown",
   "metadata": {},
   "source": [
    "### Question 2"
   ]
  },
  {
   "cell_type": "code",
   "execution_count": 21,
   "metadata": {},
   "outputs": [],
   "source": [
    "def resout(grille):\n",
    "    for i in range(n2):\n",
    "        for j in range(n2):\n",
    "            if not compatible(grille, i * n2 + j):\n",
    "                return None\n",
    "    grille = [grille[k] for k in range(n2 * n2)]\n",
    "    trous = a_remplir(grille)\n",
    "    courant = 0\n",
    "    while courant >= 0 and courant < len(trous):\n",
    "        chiffre_actuel = grille[trous[courant]]\n",
    "        if chiffre_actuel < n2:\n",
    "            grille[trous[courant]] += 1\n",
    "            if compatible(grille, trous[courant]):\n",
    "                courant += 1\n",
    "        else:\n",
    "            grille[trous[courant]] = 0\n",
    "            courant = courant - 1\n",
    "    if courant == -1:\n",
    "        return None\n",
    "    else:\n",
    "        return grille"
   ]
  },
  {
   "cell_type": "code",
   "execution_count": 22,
   "metadata": {},
   "outputs": [],
   "source": [
    "def affiche_sudoku(grille):\n",
    "    for i in range(n2):\n",
    "        for j in range(n2):\n",
    "            print(grille[i * n2 + j], end=\" \")\n",
    "        print(\"\")"
   ]
  },
  {
   "cell_type": "code",
   "execution_count": 23,
   "metadata": {},
   "outputs": [],
   "source": [
    "res = resout([5 for k in range(n2 * n2)])"
   ]
  },
  {
   "cell_type": "code",
   "execution_count": 24,
   "metadata": {},
   "outputs": [],
   "source": [
    "res = resout(grille)"
   ]
  },
  {
   "cell_type": "code",
   "execution_count": 25,
   "metadata": {},
   "outputs": [
    {
     "name": "stdout",
     "output_type": "stream",
     "text": [
      "5 0 3 0 2 0 6 0 0 \n",
      "9 0 0 3 0 5 0 0 1 \n",
      "0 0 1 8 0 6 4 0 0 \n",
      "0 0 8 1 0 2 9 0 0 \n",
      "7 0 0 0 0 0 0 0 8 \n",
      "0 0 6 7 0 8 2 0 0 \n",
      "0 0 2 6 0 9 5 0 0 \n",
      "8 0 0 2 0 3 0 0 9 \n",
      "0 0 5 0 1 0 3 0 0 \n"
     ]
    }
   ],
   "source": [
    "affiche_sudoku(grille)"
   ]
  },
  {
   "cell_type": "code",
   "execution_count": 26,
   "metadata": {},
   "outputs": [
    {
     "name": "stdout",
     "output_type": "stream",
     "text": [
      "5 8 3 1 2 4 6 7 9 \n",
      "9 6 4 3 7 5 2 8 1 \n",
      "2 7 1 8 9 6 4 3 5 \n",
      "1 2 8 1 3 2 9 1 3 \n",
      "7 3 9 4 5 6 4 5 8 \n",
      "4 5 6 7 9 8 2 6 7 \n",
      "3 1 2 6 4 9 5 1 2 \n",
      "8 4 7 2 5 3 4 6 9 \n",
      "6 9 5 7 1 8 3 7 8 \n"
     ]
    }
   ],
   "source": [
    "affiche_sudoku(res)"
   ]
  }
 ],
 "metadata": {
  "kernelspec": {
   "display_name": "Python 3",
   "language": "python",
   "name": "python3"
  },
  "language_info": {
   "codemirror_mode": {
    "name": "ipython",
    "version": 3
   },
   "file_extension": ".py",
   "mimetype": "text/x-python",
   "name": "python",
   "nbconvert_exporter": "python",
   "pygments_lexer": "ipython3",
   "version": "3.7.4"
  }
 },
 "nbformat": 4,
 "nbformat_minor": 2
}
